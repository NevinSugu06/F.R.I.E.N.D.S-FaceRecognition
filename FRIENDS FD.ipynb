{
 "cells": [
  {
   "cell_type": "code",
   "execution_count": 1,
   "id": "f2ccef30",
   "metadata": {},
   "outputs": [],
   "source": [
    "import face_recognition as fr\n",
    "import cv2\n",
    "import matplotlib.pyplot as plt\n",
    "\n",
    "import numpy as np\n",
    "import os"
   ]
  },
  {
   "cell_type": "code",
   "execution_count": 2,
   "id": "148be5ae",
   "metadata": {},
   "outputs": [],
   "source": [
    "path = \"./train/\"\n",
    "\n",
    "known_names = []\n",
    "known_name_encodings = []\n",
    "\n",
    "images = os.listdir(path)"
   ]
  },
  {
   "cell_type": "code",
   "execution_count": 3,
   "id": "391625a5",
   "metadata": {},
   "outputs": [],
   "source": [
    "for _ in images:\n",
    "    image = fr.load_image_file(path + _)\n",
    "    image_path = path + _\n",
    "    encoding = fr.face_encodings(image)[0]\n",
    "\n",
    "known_name_encodings.append(encoding)\n",
    "known_names.append(os.path.splitext(os.path.basename(image_path))[0].capitalize())"
   ]
  },
  {
   "cell_type": "code",
   "execution_count": 4,
   "id": "06656f74",
   "metadata": {},
   "outputs": [],
   "source": [
    "test_image = \"./test/test.jpg\"\n",
    "\n",
    "image = cv2.imread(test_image)\n",
    "window_name = 'image'"
   ]
  },
  {
   "cell_type": "code",
   "execution_count": 5,
   "id": "ffb37af5",
   "metadata": {},
   "outputs": [],
   "source": [
    "face_locations = fr.face_locations(image)\n",
    "\n",
    "face_encodings = fr.face_encodings(image, face_locations)"
   ]
  },
  {
   "cell_type": "code",
   "execution_count": 6,
   "id": "6e52a4fd",
   "metadata": {},
   "outputs": [],
   "source": [
    "for (top, right, bottom, left), face_encoding in zip(face_locations, face_encodings):\n",
    "   matches = fr.compare_faces(known_name_encodings, face_encoding)\n",
    "   name = \"\"\n",
    "\n",
    "   face_distances = fr.face_distance(known_name_encodings, face_encoding)\n",
    "   best_match = np.argmin(face_distances)\n",
    "\n",
    "   if matches[best_match]:\n",
    "       name = known_names[best_match]\n",
    "\n",
    "   cv2.rectangle(image, (left, top), (right, bottom), (0, 0, 255), 2)\n",
    "   cv2.rectangle(image, (left, bottom - 15), (right, bottom), (0, 0, 255), cv2.FILLED)\n",
    "\n",
    "   font = cv2.FONT_HERSHEY_DUPLEX\n",
    "   cv2.putText(image, name, (left + 6, bottom - 6), font, 1.0, (255, 255, 255), 1)"
   ]
  },
  {
   "cell_type": "code",
   "execution_count": 20,
   "id": "4ab79394",
   "metadata": {
    "scrolled": true
   },
   "outputs": [
    {
     "data": {
      "text/plain": [
       "True"
      ]
     },
     "execution_count": 20,
     "metadata": {},
     "output_type": "execute_result"
    }
   ],
   "source": [
    "#for color\n",
    "b,g,r=cv2.split(image)\n",
    "image=cv2.merge((r,g,b))\n",
    "#or\n",
    "image=cv2.cvtColor(image,cv2.COLOR_BGR2RGB)\n",
    "\n",
    "#cv2.imshow(window_name,image)\n",
    "\n",
    "cv2.imwrite(\"./output.jpg\", image)\n",
    "\n",
    "#cv2.waitKey(0)\n",
    "#cv2.destroyAllWindows()"
   ]
  },
  {
   "cell_type": "code",
   "execution_count": null,
   "id": "82d9494d",
   "metadata": {},
   "outputs": [],
   "source": []
  }
 ],
 "metadata": {
  "kernelspec": {
   "display_name": "Python 3 (ipykernel)",
   "language": "python",
   "name": "python3"
  },
  "language_info": {
   "codemirror_mode": {
    "name": "ipython",
    "version": 3
   },
   "file_extension": ".py",
   "mimetype": "text/x-python",
   "name": "python",
   "nbconvert_exporter": "python",
   "pygments_lexer": "ipython3",
   "version": "3.10.10"
  }
 },
 "nbformat": 4,
 "nbformat_minor": 5
}
